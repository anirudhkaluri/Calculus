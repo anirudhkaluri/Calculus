{
 "cells": [
  {
   "cell_type": "code",
   "execution_count": 2,
   "id": "7a1d4185-2399-4bc5-b567-1b4be24c3a99",
   "metadata": {
    "tags": []
   },
   "outputs": [],
   "source": [
    "from sympy import *\n",
    "x=Symbol('x')\n",
    "Fx=7*x**3+x**2+1"
   ]
  },
  {
   "cell_type": "code",
   "execution_count": 3,
   "id": "fed47ff3-0b3c-4e6e-97a4-77d15729493a",
   "metadata": {
    "tags": []
   },
   "outputs": [
    {
     "data": {
      "text/latex": [
       "$\\displaystyle \\frac{d}{d x} \\left(7 x^{3} + x^{2} + 1\\right)$"
      ],
      "text/plain": [
       "Derivative(7*x**3 + x**2 + 1, x)"
      ]
     },
     "execution_count": 3,
     "metadata": {},
     "output_type": "execute_result"
    }
   ],
   "source": [
    "Derivative(Fx,x) #the derivative object is returned but not the derivative. use the do it function"
   ]
  },
  {
   "cell_type": "code",
   "execution_count": 4,
   "id": "36c91861-636c-4c4b-a5ae-b58768ca395d",
   "metadata": {
    "tags": []
   },
   "outputs": [
    {
     "data": {
      "text/latex": [
       "$\\displaystyle 21 x^{2} + 2 x$"
      ],
      "text/plain": [
       "21*x**2 + 2*x"
      ]
     },
     "execution_count": 4,
     "metadata": {},
     "output_type": "execute_result"
    }
   ],
   "source": [
    "Derivative(Fx,x).doit() #now we get the derivative"
   ]
  },
  {
   "cell_type": "raw",
   "id": "b15ef6ac-eb11-46da-b5e4-7f2032062e3e",
   "metadata": {},
   "source": [
    "Now lets use scipy.misc to calculate derivative at a particular point. The derivative function in the scipy.misc takes two compulsory arguments: the function which returns the polynomial expression and the point at which we want to find the derivative. Here we want to find the derivative at the point 1.0."
   ]
  },
  {
   "cell_type": "code",
   "execution_count": 5,
   "id": "39d34c21-b206-40dc-ae9a-8bb6032aca8f",
   "metadata": {
    "tags": []
   },
   "outputs": [
    {
     "name": "stderr",
     "output_type": "stream",
     "text": [
      "/tmp/ipykernel_74951/3973204876.py:4: DeprecationWarning: scipy.misc.derivative is deprecated in SciPy v1.10.0; and will be completely removed in SciPy v1.12.0. You may consider using findiff: https://github.com/maroba/findiff or numdifftools: https://github.com/pbrod/numdifftools\n",
      "  derivative(f,1.0)\n"
     ]
    },
    {
     "data": {
      "text/plain": [
       "30.0"
      ]
     },
     "execution_count": 5,
     "metadata": {},
     "output_type": "execute_result"
    }
   ],
   "source": [
    "from scipy.misc import derivative\n",
    "def f(t):\n",
    "    return 7*t**3+t**2+1\n",
    "derivative(f,1.0)"
   ]
  },
  {
   "cell_type": "code",
   "execution_count": null,
   "id": "3af48473-bfad-4c8f-be33-885a124ce46f",
   "metadata": {},
   "outputs": [],
   "source": []
  }
 ],
 "metadata": {
  "kernelspec": {
   "display_name": "Python 3 (ipykernel)",
   "language": "python",
   "name": "python3"
  },
  "language_info": {
   "codemirror_mode": {
    "name": "ipython",
    "version": 3
   },
   "file_extension": ".py",
   "mimetype": "text/x-python",
   "name": "python",
   "nbconvert_exporter": "python",
   "pygments_lexer": "ipython3",
   "version": "3.10.10"
  }
 },
 "nbformat": 4,
 "nbformat_minor": 5
}
