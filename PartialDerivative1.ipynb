{
 "cells": [
  {
   "cell_type": "code",
   "execution_count": 1,
   "id": "d8737fb5-1dca-4b6d-a012-dcfa93d56021",
   "metadata": {
    "tags": []
   },
   "outputs": [],
   "source": [
    "from sympy import *"
   ]
  },
  {
   "cell_type": "code",
   "execution_count": 2,
   "id": "15f47fb2-4967-441a-8fb4-42192f260721",
   "metadata": {
    "tags": []
   },
   "outputs": [
    {
     "data": {
      "text/latex": [
       "$\\displaystyle x^{2} + 5 x y z + y^{3} + z^{4}$"
      ],
      "text/plain": [
       "x**2 + 5*x*y*z + y**3 + z**4"
      ]
     },
     "execution_count": 2,
     "metadata": {},
     "output_type": "execute_result"
    }
   ],
   "source": [
    "x,y,z=symbols('x y z',real=True)\n",
    "f=x**2+y**3+z**4+5*x*y*z\n",
    "f"
   ]
  },
  {
   "cell_type": "raw",
   "id": "e7b029ca-af44-4e4b-9267-2ed671fcf98f",
   "metadata": {},
   "source": [
    "Lets now find the partial derivatives of the function with respect to each variable using a for loop:"
   ]
  },
  {
   "cell_type": "code",
   "execution_count": 4,
   "id": "039ae63f-bb0a-4d42-91f0-31536196cce7",
   "metadata": {
    "tags": []
   },
   "outputs": [
    {
     "name": "stdout",
     "output_type": "stream",
     "text": [
      "f_x= 2*x + 5*y*z\n",
      "f_y= 5*x*z + 3*y**2\n",
      "f_z= 5*x*y + 4*z**3\n"
     ]
    }
   ],
   "source": [
    "for var in [x, y, z]:\n",
    "    print(\"f_\"+str(var)+\"=\",f.diff(var))"
   ]
  },
  {
   "cell_type": "raw",
   "id": "3eeaeb7b-8c82-4c7b-bed4-845eeb209f39",
   "metadata": {},
   "source": [
    "Lets calculate higher order derivatives of x:"
   ]
  },
  {
   "cell_type": "code",
   "execution_count": 5,
   "id": "ab03297b-501f-49a2-9bc0-8cf675f29fa2",
   "metadata": {
    "tags": []
   },
   "outputs": [
    {
     "name": "stdout",
     "output_type": "stream",
     "text": [
      "2*x + 5*y*z\n"
     ]
    }
   ],
   "source": [
    "f_x=f.diff(x)\n",
    "f_x2=f_x.diff(x)\n",
    "f_xy=f_x.diff(y)\n",
    "print(\"f_x2\"+f_x2"
   ]
  },
  {
   "cell_type": "code",
   "execution_count": null,
   "id": "28282fe7-99e7-45b9-83a4-33cfeefd27d1",
   "metadata": {},
   "outputs": [],
   "source": []
  }
 ],
 "metadata": {
  "kernelspec": {
   "display_name": "Python 3 (ipykernel)",
   "language": "python",
   "name": "python3"
  },
  "language_info": {
   "codemirror_mode": {
    "name": "ipython",
    "version": 3
   },
   "file_extension": ".py",
   "mimetype": "text/x-python",
   "name": "python",
   "nbconvert_exporter": "python",
   "pygments_lexer": "ipython3",
   "version": "3.10.10"
  }
 },
 "nbformat": 4,
 "nbformat_minor": 5
}
