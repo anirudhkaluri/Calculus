{
 "cells": [
  {
   "cell_type": "code",
   "execution_count": 3,
   "id": "fda6304e-320a-492a-88c8-04694646d647",
   "metadata": {
    "tags": []
   },
   "outputs": [
    {
     "name": "stdout",
     "output_type": "stream",
     "text": [
      "   2\n",
      "6 x + 8 x\n"
     ]
    }
   ],
   "source": [
    "import numpy as np\n",
    "\n",
    "#2x^3+4x^2+3\n",
    "coeffs=[2,4,0,3]\n",
    "f=np.poly1d(coeffs)\n",
    "f_prime=f.deriv()\n",
    "print(f_prime)"
   ]
  },
  {
   "cell_type": "code",
   "execution_count": null,
   "id": "f0a983fe-c789-40fd-a6c0-e3cf54764e29",
   "metadata": {},
   "outputs": [],
   "source": []
  },
  {
   "cell_type": "code",
   "execution_count": null,
   "id": "c22e27e2-4a96-47ff-b02a-fbead36a1d25",
   "metadata": {},
   "outputs": [],
   "source": []
  }
 ],
 "metadata": {
  "kernelspec": {
   "display_name": "Python 3 (ipykernel)",
   "language": "python",
   "name": "python3"
  },
  "language_info": {
   "codemirror_mode": {
    "name": "ipython",
    "version": 3
   },
   "file_extension": ".py",
   "mimetype": "text/x-python",
   "name": "python",
   "nbconvert_exporter": "python",
   "pygments_lexer": "ipython3",
   "version": "3.10.10"
  }
 },
 "nbformat": 4,
 "nbformat_minor": 5
}
