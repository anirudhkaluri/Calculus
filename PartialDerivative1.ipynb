{
 "cells": [
  {
   "cell_type": "code",
   "execution_count": 1,
   "id": "d8737fb5-1dca-4b6d-a012-dcfa93d56021",
   "metadata": {
    "tags": []
   },
   "outputs": [],
   "source": [
    "from sympy import *"
   ]
  },
  {
   "cell_type": "code",
   "execution_count": null,
   "id": "15f47fb2-4967-441a-8fb4-42192f260721",
   "metadata": {},
   "outputs": [],
   "source": [
    "x,y,z=symbols('x y z',real=True)\n",
    "f=x**2+y**3+z**4+5*x*y*z"
   ]
  }
 ],
 "metadata": {
  "kernelspec": {
   "display_name": "Python 3 (ipykernel)",
   "language": "python",
   "name": "python3"
  },
  "language_info": {
   "codemirror_mode": {
    "name": "ipython",
    "version": 3
   },
   "file_extension": ".py",
   "mimetype": "text/x-python",
   "name": "python",
   "nbconvert_exporter": "python",
   "pygments_lexer": "ipython3",
   "version": "3.10.10"
  }
 },
 "nbformat": 4,
 "nbformat_minor": 5
}
